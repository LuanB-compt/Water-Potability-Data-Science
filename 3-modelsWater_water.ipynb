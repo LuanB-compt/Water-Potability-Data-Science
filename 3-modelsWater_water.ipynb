{
  "nbformat": 4,
  "nbformat_minor": 0,
  "metadata": {
    "colab": {
      "name": "modelsWater_UPX.ipynb",
      "provenance": [],
      "collapsed_sections": [
        "30ISETM2DRxe",
        "Ukb2f9TZLINm",
        "T5xPZ0Z7LSLh",
        "6Q_dTij4LcI1",
        "a7u70UB4TvFg",
        "2V3gPRmbNNqv",
        "lyMrASZYL-qB",
        "PDpeFN0oR8Bx",
        "HXRYMX6tQP6g",
        "CQTxlQ1mWFwk",
        "iANoBxclWKWg",
        "e4t4IhWvWWAb",
        "MdF32s8nTNEG",
        "Bfn59CrCir1P",
        "R6Vuvkt0lFWA",
        "Kn9Q4JutlA2h",
        "z82BGyRaKc2b",
        "5zeQHsCQKgXT"
      ]
    },
    "kernelspec": {
      "name": "python3",
      "display_name": "Python 3"
    },
    "language_info": {
      "name": "python"
    }
  },
  "cells": [
    {
      "cell_type": "markdown",
      "metadata": {
        "id": "rzVFqv4mKQQk"
      },
      "source": [
        "# **AI CLASSIFICATION TO WATER QUALITY**\n",
        "(https://www.kaggle.com/adityakadiwal/water-potability/code - link para o dataset utilizado)"
      ]
    },
    {
      "cell_type": "markdown",
      "metadata": {
        "id": "8ybQiRc1TPP4"
      },
      "source": [
        "# **IMPORTANDO DADOS e IMPORTANDO BIBLIOTECAS**"
      ]
    },
    {
      "cell_type": "markdown",
      "metadata": {
        "id": "30ISETM2DRxe"
      },
      "source": [
        "##### Bibliotecas que serão usadas:"
      ]
    },
    {
      "cell_type": "code",
      "metadata": {
        "id": "dU1dGgIp3xRS"
      },
      "source": [
        "# Manipulação dos dados\n",
        "import pandas as pd\n",
        "import numpy as np\n",
        "\n",
        "# Tratamento/Pré-Processamento e Otimização\n",
        "from sklearn.preprocessing import StandardScaler\n",
        "from imblearn.over_sampling import SMOTE \n",
        "from sklearn.model_selection import train_test_split \n",
        "from sklearn.model_selection import GridSearchCV\n",
        "\n",
        "# Algorítmos de Aprendizado de Máquina\n",
        "import sklearn\n",
        "from sklearn.tree import DecisionTreeClassifier\n",
        "from sklearn import svm\n",
        "import xgboost as xgb\n",
        "from sklearn.ensemble import RandomForestClassifier\n",
        "\n",
        "# Validação dos modelos\n",
        "from sklearn.metrics import confusion_matrix\n",
        "from sklearn.metrics import classification_report\n",
        "\n",
        "# Plotagem de gráficos\n",
        "import matplotlib.pyplot as plt\n",
        "import seaborn as sns"
      ],
      "execution_count": null,
      "outputs": []
    },
    {
      "cell_type": "markdown",
      "metadata": {
        "id": "Ukb2f9TZLINm"
      },
      "source": [
        "#### Detalhes do dataset:\n",
        "- ppm: partes por milhão\n",
        "- μg/L: micrograma por litro\n",
        "- mg/L: miligrama por litro\n",
        "\n",
        "#### Descrição das colunas:\n",
        "\n",
        "1. ph: pH de 1. Água (0 a 14).\n",
        "2. Dureza: Capacidade da água provocar a precipitação do sabão em mg/L.\n",
        "3. Sólidos: Sólidos dissolvidos totais em ppm.\n",
        "4. Cloraminas: Quantidade de cloraminas em ppm.\n",
        "5. Sulfato: Quantidade de Sulfatos dissolvidos em mg/L.\n",
        "6. Condutividade: Condutividade eléctrica da água em μS/cm.\n",
        "7. Carbono_orgânico: Quantidade de carbono orgânico em ppm.\n",
        "8. Trihalometanos: Quantidade de trihalometanos em μg/L.\n",
        "9. Turvação: Medida da propriedade de emissão de luz da água na NTU.\n",
        "10. Potabilidade: Indica se a água é segura para o consumo humano. Potabilidade -1 e Não potável -0"
      ]
    },
    {
      "cell_type": "code",
      "metadata": {
        "colab": {
          "base_uri": "https://localhost:8080/",
          "height": 419
        },
        "id": "nVFoKRD83UZ8",
        "outputId": "95f86309-a3a6-45d8-df60-967fba2515e0"
      },
      "source": [
        "dataset = pd.read_csv('/content/drive/MyDrive/water_potability.csv')\n",
        "\n",
        "dataset"
      ],
      "execution_count": null,
      "outputs": [
        {
          "output_type": "execute_result",
          "data": {
            "text/html": [
              "<div>\n",
              "<style scoped>\n",
              "    .dataframe tbody tr th:only-of-type {\n",
              "        vertical-align: middle;\n",
              "    }\n",
              "\n",
              "    .dataframe tbody tr th {\n",
              "        vertical-align: top;\n",
              "    }\n",
              "\n",
              "    .dataframe thead th {\n",
              "        text-align: right;\n",
              "    }\n",
              "</style>\n",
              "<table border=\"1\" class=\"dataframe\">\n",
              "  <thead>\n",
              "    <tr style=\"text-align: right;\">\n",
              "      <th></th>\n",
              "      <th>ph</th>\n",
              "      <th>Hardness</th>\n",
              "      <th>Solids</th>\n",
              "      <th>Chloramines</th>\n",
              "      <th>Sulfate</th>\n",
              "      <th>Conductivity</th>\n",
              "      <th>Organic_carbon</th>\n",
              "      <th>Trihalomethanes</th>\n",
              "      <th>Turbidity</th>\n",
              "      <th>Potability</th>\n",
              "    </tr>\n",
              "  </thead>\n",
              "  <tbody>\n",
              "    <tr>\n",
              "      <th>0</th>\n",
              "      <td>NaN</td>\n",
              "      <td>204.890455</td>\n",
              "      <td>20791.318981</td>\n",
              "      <td>7.300212</td>\n",
              "      <td>368.516441</td>\n",
              "      <td>564.308654</td>\n",
              "      <td>10.379783</td>\n",
              "      <td>86.990970</td>\n",
              "      <td>2.963135</td>\n",
              "      <td>0</td>\n",
              "    </tr>\n",
              "    <tr>\n",
              "      <th>1</th>\n",
              "      <td>3.716080</td>\n",
              "      <td>129.422921</td>\n",
              "      <td>18630.057858</td>\n",
              "      <td>6.635246</td>\n",
              "      <td>NaN</td>\n",
              "      <td>592.885359</td>\n",
              "      <td>15.180013</td>\n",
              "      <td>56.329076</td>\n",
              "      <td>4.500656</td>\n",
              "      <td>0</td>\n",
              "    </tr>\n",
              "    <tr>\n",
              "      <th>2</th>\n",
              "      <td>8.099124</td>\n",
              "      <td>224.236259</td>\n",
              "      <td>19909.541732</td>\n",
              "      <td>9.275884</td>\n",
              "      <td>NaN</td>\n",
              "      <td>418.606213</td>\n",
              "      <td>16.868637</td>\n",
              "      <td>66.420093</td>\n",
              "      <td>3.055934</td>\n",
              "      <td>0</td>\n",
              "    </tr>\n",
              "    <tr>\n",
              "      <th>3</th>\n",
              "      <td>8.316766</td>\n",
              "      <td>214.373394</td>\n",
              "      <td>22018.417441</td>\n",
              "      <td>8.059332</td>\n",
              "      <td>356.886136</td>\n",
              "      <td>363.266516</td>\n",
              "      <td>18.436524</td>\n",
              "      <td>100.341674</td>\n",
              "      <td>4.628771</td>\n",
              "      <td>0</td>\n",
              "    </tr>\n",
              "    <tr>\n",
              "      <th>4</th>\n",
              "      <td>9.092223</td>\n",
              "      <td>181.101509</td>\n",
              "      <td>17978.986339</td>\n",
              "      <td>6.546600</td>\n",
              "      <td>310.135738</td>\n",
              "      <td>398.410813</td>\n",
              "      <td>11.558279</td>\n",
              "      <td>31.997993</td>\n",
              "      <td>4.075075</td>\n",
              "      <td>0</td>\n",
              "    </tr>\n",
              "    <tr>\n",
              "      <th>...</th>\n",
              "      <td>...</td>\n",
              "      <td>...</td>\n",
              "      <td>...</td>\n",
              "      <td>...</td>\n",
              "      <td>...</td>\n",
              "      <td>...</td>\n",
              "      <td>...</td>\n",
              "      <td>...</td>\n",
              "      <td>...</td>\n",
              "      <td>...</td>\n",
              "    </tr>\n",
              "    <tr>\n",
              "      <th>3271</th>\n",
              "      <td>4.668102</td>\n",
              "      <td>193.681735</td>\n",
              "      <td>47580.991603</td>\n",
              "      <td>7.166639</td>\n",
              "      <td>359.948574</td>\n",
              "      <td>526.424171</td>\n",
              "      <td>13.894419</td>\n",
              "      <td>66.687695</td>\n",
              "      <td>4.435821</td>\n",
              "      <td>1</td>\n",
              "    </tr>\n",
              "    <tr>\n",
              "      <th>3272</th>\n",
              "      <td>7.808856</td>\n",
              "      <td>193.553212</td>\n",
              "      <td>17329.802160</td>\n",
              "      <td>8.061362</td>\n",
              "      <td>NaN</td>\n",
              "      <td>392.449580</td>\n",
              "      <td>19.903225</td>\n",
              "      <td>NaN</td>\n",
              "      <td>2.798243</td>\n",
              "      <td>1</td>\n",
              "    </tr>\n",
              "    <tr>\n",
              "      <th>3273</th>\n",
              "      <td>9.419510</td>\n",
              "      <td>175.762646</td>\n",
              "      <td>33155.578218</td>\n",
              "      <td>7.350233</td>\n",
              "      <td>NaN</td>\n",
              "      <td>432.044783</td>\n",
              "      <td>11.039070</td>\n",
              "      <td>69.845400</td>\n",
              "      <td>3.298875</td>\n",
              "      <td>1</td>\n",
              "    </tr>\n",
              "    <tr>\n",
              "      <th>3274</th>\n",
              "      <td>5.126763</td>\n",
              "      <td>230.603758</td>\n",
              "      <td>11983.869376</td>\n",
              "      <td>6.303357</td>\n",
              "      <td>NaN</td>\n",
              "      <td>402.883113</td>\n",
              "      <td>11.168946</td>\n",
              "      <td>77.488213</td>\n",
              "      <td>4.708658</td>\n",
              "      <td>1</td>\n",
              "    </tr>\n",
              "    <tr>\n",
              "      <th>3275</th>\n",
              "      <td>7.874671</td>\n",
              "      <td>195.102299</td>\n",
              "      <td>17404.177061</td>\n",
              "      <td>7.509306</td>\n",
              "      <td>NaN</td>\n",
              "      <td>327.459760</td>\n",
              "      <td>16.140368</td>\n",
              "      <td>78.698446</td>\n",
              "      <td>2.309149</td>\n",
              "      <td>1</td>\n",
              "    </tr>\n",
              "  </tbody>\n",
              "</table>\n",
              "<p>3276 rows × 10 columns</p>\n",
              "</div>"
            ],
            "text/plain": [
              "            ph    Hardness  ...  Turbidity  Potability\n",
              "0          NaN  204.890455  ...   2.963135           0\n",
              "1     3.716080  129.422921  ...   4.500656           0\n",
              "2     8.099124  224.236259  ...   3.055934           0\n",
              "3     8.316766  214.373394  ...   4.628771           0\n",
              "4     9.092223  181.101509  ...   4.075075           0\n",
              "...        ...         ...  ...        ...         ...\n",
              "3271  4.668102  193.681735  ...   4.435821           1\n",
              "3272  7.808856  193.553212  ...   2.798243           1\n",
              "3273  9.419510  175.762646  ...   3.298875           1\n",
              "3274  5.126763  230.603758  ...   4.708658           1\n",
              "3275  7.874671  195.102299  ...   2.309149           1\n",
              "\n",
              "[3276 rows x 10 columns]"
            ]
          },
          "metadata": {},
          "execution_count": 2
        }
      ]
    },
    {
      "cell_type": "markdown",
      "metadata": {
        "id": "T5xPZ0Z7LSLh"
      },
      "source": [
        "# **TRATAMENTO E PRÉ-PROCESSAMENTO DOS DADOS:**"
      ]
    },
    {
      "cell_type": "markdown",
      "metadata": {
        "id": "6Q_dTij4LcI1"
      },
      "source": [
        "### Dados Faltantes:\n",
        "- Problema será tratado colocando a média dos atributos nos valores que estiverem faltando."
      ]
    },
    {
      "cell_type": "code",
      "metadata": {
        "colab": {
          "base_uri": "https://localhost:8080/"
        },
        "id": "Q1iljx4jLb4r",
        "outputId": "606996d0-ea9e-4b1c-ec58-5c6d5e15a7be"
      },
      "source": [
        "faltante={\"Faltante (abs)\":dataset.isnull().sum(),\"Faltante (%)\":round(((dataset.isnull().sum()/dataset.shape[0])*100),2)}\n",
        "pd.DataFrame(faltante)"
      ],
      "execution_count": null,
      "outputs": [
        {
          "output_type": "execute_result",
          "data": {
            "text/html": [
              "<div>\n",
              "<style scoped>\n",
              "    .dataframe tbody tr th:only-of-type {\n",
              "        vertical-align: middle;\n",
              "    }\n",
              "\n",
              "    .dataframe tbody tr th {\n",
              "        vertical-align: top;\n",
              "    }\n",
              "\n",
              "    .dataframe thead th {\n",
              "        text-align: right;\n",
              "    }\n",
              "</style>\n",
              "<table border=\"1\" class=\"dataframe\">\n",
              "  <thead>\n",
              "    <tr style=\"text-align: right;\">\n",
              "      <th></th>\n",
              "      <th>Faltante (abs)</th>\n",
              "      <th>Faltante (%)</th>\n",
              "    </tr>\n",
              "  </thead>\n",
              "  <tbody>\n",
              "    <tr>\n",
              "      <th>ph</th>\n",
              "      <td>0</td>\n",
              "      <td>0.0</td>\n",
              "    </tr>\n",
              "    <tr>\n",
              "      <th>Hardness</th>\n",
              "      <td>0</td>\n",
              "      <td>0.0</td>\n",
              "    </tr>\n",
              "    <tr>\n",
              "      <th>Solids</th>\n",
              "      <td>0</td>\n",
              "      <td>0.0</td>\n",
              "    </tr>\n",
              "    <tr>\n",
              "      <th>Chloramines</th>\n",
              "      <td>0</td>\n",
              "      <td>0.0</td>\n",
              "    </tr>\n",
              "    <tr>\n",
              "      <th>Sulfate</th>\n",
              "      <td>0</td>\n",
              "      <td>0.0</td>\n",
              "    </tr>\n",
              "    <tr>\n",
              "      <th>Conductivity</th>\n",
              "      <td>0</td>\n",
              "      <td>0.0</td>\n",
              "    </tr>\n",
              "    <tr>\n",
              "      <th>Organic_carbon</th>\n",
              "      <td>0</td>\n",
              "      <td>0.0</td>\n",
              "    </tr>\n",
              "    <tr>\n",
              "      <th>Trihalomethanes</th>\n",
              "      <td>0</td>\n",
              "      <td>0.0</td>\n",
              "    </tr>\n",
              "    <tr>\n",
              "      <th>Turbidity</th>\n",
              "      <td>0</td>\n",
              "      <td>0.0</td>\n",
              "    </tr>\n",
              "    <tr>\n",
              "      <th>Potability</th>\n",
              "      <td>0</td>\n",
              "      <td>0.0</td>\n",
              "    </tr>\n",
              "  </tbody>\n",
              "</table>\n",
              "</div>"
            ],
            "text/plain": [
              "                 Faltante (abs)  Faltante (%)\n",
              "ph                            0           0.0\n",
              "Hardness                      0           0.0\n",
              "Solids                        0           0.0\n",
              "Chloramines                   0           0.0\n",
              "Sulfate                       0           0.0\n",
              "Conductivity                  0           0.0\n",
              "Organic_carbon                0           0.0\n",
              "Trihalomethanes               0           0.0\n",
              "Turbidity                     0           0.0\n",
              "Potability                    0           0.0"
            ]
          },
          "metadata": {},
          "execution_count": 16
        }
      ]
    },
    {
      "cell_type": "code",
      "metadata": {
        "colab": {
          "base_uri": "https://localhost:8080/"
        },
        "id": "m7leoIIdL6R5",
        "outputId": "9656dbd4-d842-4077-ee80-90465f965eaf"
      },
      "source": [
        "dataset.fillna({'ph':dataset.ph.mean()}, inplace=True)\n",
        "dataset.fillna({'Sulfate':dataset.Sulfate.mean()}, inplace=True)\n",
        "dataset.fillna({'Trihalomethanes':dataset.Trihalomethanes.mean()}, inplace=True)\n",
        "\n",
        "dataset.isnull().sum()"
      ],
      "execution_count": null,
      "outputs": [
        {
          "output_type": "execute_result",
          "data": {
            "text/plain": [
              "ph                 0\n",
              "Hardness           0\n",
              "Solids             0\n",
              "Chloramines        0\n",
              "Sulfate            0\n",
              "Conductivity       0\n",
              "Organic_carbon     0\n",
              "Trihalomethanes    0\n",
              "Turbidity          0\n",
              "Potability         0\n",
              "dtype: int64"
            ]
          },
          "metadata": {},
          "execution_count": 17
        }
      ]
    },
    {
      "cell_type": "markdown",
      "metadata": {
        "id": "a7u70UB4TvFg"
      },
      "source": [
        "### Separação dos dados:\n",
        "- Separando em X (input) de treino e teste, e y (output) de treino e teste."
      ]
    },
    {
      "cell_type": "code",
      "metadata": {
        "id": "fqZvKpglUD2p"
      },
      "source": [
        "X = dataset.drop(['Potability'], axis=1)\n",
        "y = dataset.Potability  \n",
        "\n",
        "X_train, X_test, y_train, y_test = train_test_split(X,y, test_size=0.20, random_state=2021)"
      ],
      "execution_count": null,
      "outputs": []
    },
    {
      "cell_type": "code",
      "metadata": {
        "colab": {
          "base_uri": "https://localhost:8080/"
        },
        "id": "AhRMQ1EcUQYM",
        "outputId": "877fd40c-6611-4f73-e392-4fdd7926ba71"
      },
      "source": [
        "print(X_train.shape)\n",
        "print(X_test.shape)\n",
        "print(y_train.shape)\n",
        "print(y_test.shape)"
      ],
      "execution_count": null,
      "outputs": [
        {
          "output_type": "stream",
          "name": "stdout",
          "text": [
            "(2620, 9)\n",
            "(656, 9)\n",
            "(2620,)\n",
            "(656,)\n"
          ]
        }
      ]
    },
    {
      "cell_type": "markdown",
      "metadata": {
        "id": "2V3gPRmbNNqv"
      },
      "source": [
        "### Padronização dos dados:\n",
        "- Como será utlizado alguns modelos que são sensíveis a dados com dimensionamento desnivelado, será aplicado uma padronização nos dados (traz o conjunto de dados para média=0 e desvio padrão=1);\n",
        "- A padronização é feita a partir da fórmula: \n",
        "$$\n",
        "  (x - Média)/Desvio Padrão\n",
        "$$"
      ]
    },
    {
      "cell_type": "code",
      "metadata": {
        "id": "CUL8Qxfj5Sxl"
      },
      "source": [
        "scaler = StandardScaler().fit(X_train)\n",
        "X_train = scaler.transform(X_train)\n",
        "X_test = scaler.transform(X_test)\n",
        "\n",
        "dataset_standart_treino = pd.DataFrame(data=X_train.tolist(),\n",
        "                    columns=['ph',\t'Hardness',\t'Solids',\t'Chloramines',\t'Sulfate',\t'Conductivity',\t'Organic_carbon',\t'Trihalomethanes',\t'Turbidity'])\n",
        "dataset_standart_treino['Potability']=y_train.tolist()\n",
        "\n",
        "dataset_standart_teste = pd.DataFrame(data=X_test.tolist(),\n",
        "                    columns=['ph',\t'Hardness',\t'Solids',\t'Chloramines',\t'Sulfate',\t'Conductivity',\t'Organic_carbon',\t'Trihalomethanes',\t'Turbidity'])\n",
        "dataset_standart_teste['Potability']=y_test.tolist()"
      ],
      "execution_count": null,
      "outputs": []
    },
    {
      "cell_type": "code",
      "metadata": {
        "colab": {
          "base_uri": "https://localhost:8080/"
        },
        "id": "3PXMly7rDCpF",
        "outputId": "04f96e9c-3191-4575-9d7e-57e0660d8882"
      },
      "source": [
        "dataset_standart_treino.head(n=3)"
      ],
      "execution_count": null,
      "outputs": [
        {
          "output_type": "execute_result",
          "data": {
            "text/html": [
              "<div>\n",
              "<style scoped>\n",
              "    .dataframe tbody tr th:only-of-type {\n",
              "        vertical-align: middle;\n",
              "    }\n",
              "\n",
              "    .dataframe tbody tr th {\n",
              "        vertical-align: top;\n",
              "    }\n",
              "\n",
              "    .dataframe thead th {\n",
              "        text-align: right;\n",
              "    }\n",
              "</style>\n",
              "<table border=\"1\" class=\"dataframe\">\n",
              "  <thead>\n",
              "    <tr style=\"text-align: right;\">\n",
              "      <th></th>\n",
              "      <th>ph</th>\n",
              "      <th>Hardness</th>\n",
              "      <th>Solids</th>\n",
              "      <th>Chloramines</th>\n",
              "      <th>Sulfate</th>\n",
              "      <th>Conductivity</th>\n",
              "      <th>Organic_carbon</th>\n",
              "      <th>Trihalomethanes</th>\n",
              "      <th>Turbidity</th>\n",
              "      <th>Potability</th>\n",
              "    </tr>\n",
              "  </thead>\n",
              "  <tbody>\n",
              "    <tr>\n",
              "      <th>0</th>\n",
              "      <td>-0.669451</td>\n",
              "      <td>1.254109</td>\n",
              "      <td>-0.182316</td>\n",
              "      <td>0.841167</td>\n",
              "      <td>0.004611</td>\n",
              "      <td>-1.685938</td>\n",
              "      <td>1.488390</td>\n",
              "      <td>1.701150</td>\n",
              "      <td>-1.000754</td>\n",
              "      <td>0</td>\n",
              "    </tr>\n",
              "    <tr>\n",
              "      <th>1</th>\n",
              "      <td>-0.111296</td>\n",
              "      <td>0.155063</td>\n",
              "      <td>-0.626624</td>\n",
              "      <td>0.844434</td>\n",
              "      <td>0.669372</td>\n",
              "      <td>-1.128834</td>\n",
              "      <td>1.986151</td>\n",
              "      <td>-0.360752</td>\n",
              "      <td>0.366608</td>\n",
              "      <td>0</td>\n",
              "    </tr>\n",
              "    <tr>\n",
              "      <th>2</th>\n",
              "      <td>-0.003552</td>\n",
              "      <td>0.244609</td>\n",
              "      <td>1.245322</td>\n",
              "      <td>-0.713884</td>\n",
              "      <td>-0.250474</td>\n",
              "      <td>-1.084264</td>\n",
              "      <td>-2.951119</td>\n",
              "      <td>0.313730</td>\n",
              "      <td>1.212820</td>\n",
              "      <td>0</td>\n",
              "    </tr>\n",
              "  </tbody>\n",
              "</table>\n",
              "</div>"
            ],
            "text/plain": [
              "         ph  Hardness    Solids  ...  Trihalomethanes  Turbidity  Potability\n",
              "0 -0.669451  1.254109 -0.182316  ...         1.701150  -1.000754           0\n",
              "1 -0.111296  0.155063 -0.626624  ...        -0.360752   0.366608           0\n",
              "2 -0.003552  0.244609  1.245322  ...         0.313730   1.212820           0\n",
              "\n",
              "[3 rows x 10 columns]"
            ]
          },
          "metadata": {},
          "execution_count": 21
        }
      ]
    },
    {
      "cell_type": "code",
      "metadata": {
        "colab": {
          "base_uri": "https://localhost:8080/"
        },
        "id": "P53npuFDEHQj",
        "outputId": "7202686d-6142-478e-c169-1951f435e61f"
      },
      "source": [
        "dataset_standart_teste.head(n=3)"
      ],
      "execution_count": null,
      "outputs": [
        {
          "output_type": "execute_result",
          "data": {
            "text/html": [
              "<div>\n",
              "<style scoped>\n",
              "    .dataframe tbody tr th:only-of-type {\n",
              "        vertical-align: middle;\n",
              "    }\n",
              "\n",
              "    .dataframe tbody tr th {\n",
              "        vertical-align: top;\n",
              "    }\n",
              "\n",
              "    .dataframe thead th {\n",
              "        text-align: right;\n",
              "    }\n",
              "</style>\n",
              "<table border=\"1\" class=\"dataframe\">\n",
              "  <thead>\n",
              "    <tr style=\"text-align: right;\">\n",
              "      <th></th>\n",
              "      <th>ph</th>\n",
              "      <th>Hardness</th>\n",
              "      <th>Solids</th>\n",
              "      <th>Chloramines</th>\n",
              "      <th>Sulfate</th>\n",
              "      <th>Conductivity</th>\n",
              "      <th>Organic_carbon</th>\n",
              "      <th>Trihalomethanes</th>\n",
              "      <th>Turbidity</th>\n",
              "      <th>Potability</th>\n",
              "    </tr>\n",
              "  </thead>\n",
              "  <tbody>\n",
              "    <tr>\n",
              "      <th>0</th>\n",
              "      <td>1.582896</td>\n",
              "      <td>-0.680888</td>\n",
              "      <td>-1.507978</td>\n",
              "      <td>0.840124</td>\n",
              "      <td>0.679190</td>\n",
              "      <td>2.103836</td>\n",
              "      <td>0.742867</td>\n",
              "      <td>2.468233</td>\n",
              "      <td>0.828742</td>\n",
              "      <td>0</td>\n",
              "    </tr>\n",
              "    <tr>\n",
              "      <th>1</th>\n",
              "      <td>-1.661291</td>\n",
              "      <td>-0.416603</td>\n",
              "      <td>1.394603</td>\n",
              "      <td>-0.586048</td>\n",
              "      <td>-0.719524</td>\n",
              "      <td>0.148857</td>\n",
              "      <td>-1.964698</td>\n",
              "      <td>0.010662</td>\n",
              "      <td>0.215314</td>\n",
              "      <td>1</td>\n",
              "    </tr>\n",
              "    <tr>\n",
              "      <th>2</th>\n",
              "      <td>-0.253976</td>\n",
              "      <td>1.082117</td>\n",
              "      <td>0.218537</td>\n",
              "      <td>-0.319960</td>\n",
              "      <td>0.004611</td>\n",
              "      <td>0.451232</td>\n",
              "      <td>-0.119215</td>\n",
              "      <td>0.756263</td>\n",
              "      <td>-0.693006</td>\n",
              "      <td>0</td>\n",
              "    </tr>\n",
              "  </tbody>\n",
              "</table>\n",
              "</div>"
            ],
            "text/plain": [
              "         ph  Hardness    Solids  ...  Trihalomethanes  Turbidity  Potability\n",
              "0  1.582896 -0.680888 -1.507978  ...         2.468233   0.828742           0\n",
              "1 -1.661291 -0.416603  1.394603  ...         0.010662   0.215314           1\n",
              "2 -0.253976  1.082117  0.218537  ...         0.756263  -0.693006           0\n",
              "\n",
              "[3 rows x 10 columns]"
            ]
          },
          "metadata": {},
          "execution_count": 22
        }
      ]
    },
    {
      "cell_type": "code",
      "metadata": {
        "id": "1Gfl-2GfRIik",
        "colab": {
          "base_uri": "https://localhost:8080/"
        },
        "outputId": "19ff2a45-8ef0-47bd-93a2-8c03c9fe1792"
      },
      "source": [
        "print(dataset.shape)\n",
        "print(dataset_standart_treino.shape)\n",
        "print(dataset_standart_teste.shape)"
      ],
      "execution_count": null,
      "outputs": [
        {
          "output_type": "stream",
          "name": "stdout",
          "text": [
            "(3276, 10)\n",
            "(2620, 10)\n",
            "(656, 10)\n"
          ]
        }
      ]
    },
    {
      "cell_type": "markdown",
      "metadata": {
        "id": "lyMrASZYL-qB"
      },
      "source": [
        "### Balanceando atributo alvo: \n",
        "- Para resolver o problema do desbalanceamento, será aplicado a técnica conehcida como Smote (gera dados sintéticos (não duplicados) da classe minoritária a partir de \"vizinhos\")."
      ]
    },
    {
      "cell_type": "code",
      "metadata": {
        "colab": {
          "base_uri": "https://localhost:8080/"
        },
        "id": "FVjsRDN2Nmu_",
        "outputId": "e375ceb7-7ac5-47c3-bcfc-272581d84be0"
      },
      "source": [
        "dataset_standart_treino['Potability'].value_counts()"
      ],
      "execution_count": null,
      "outputs": [
        {
          "output_type": "execute_result",
          "data": {
            "text/plain": [
              "0    1606\n",
              "1    1014\n",
              "Name: Potability, dtype: int64"
            ]
          },
          "metadata": {},
          "execution_count": 24
        }
      ]
    },
    {
      "cell_type": "code",
      "metadata": {
        "id": "BIb5T0RtO1n4"
      },
      "source": [
        "X_ = dataset_standart_treino.drop(['Potability'], axis=1)\n",
        "y_ = dataset_standart_treino.Potability "
      ],
      "execution_count": null,
      "outputs": []
    },
    {
      "cell_type": "code",
      "metadata": {
        "id": "YYTKQuN4M-pE"
      },
      "source": [
        "smote = SMOTE(random_state=1)\n",
        "X_train_, y_train_ = smote.fit_resample(X_, y_)"
      ],
      "execution_count": null,
      "outputs": []
    },
    {
      "cell_type": "code",
      "metadata": {
        "colab": {
          "base_uri": "https://localhost:8080/",
          "height": 141
        },
        "id": "TTlWD7XBPM_H",
        "outputId": "9b634a08-98cf-40b6-f886-d1d3cb54653c"
      },
      "source": [
        "dataset_treino_final = pd.DataFrame(X_train_, \n",
        "                     columns=['ph',\t'Hardness',\t'Solids',\t'Chloramines',\t'Sulfate',\t'Conductivity',\t'Organic_carbon',\t'Trihalomethanes',\t'Turbidity'])\n",
        "dataset_treino_final['Potability']=y_train_\n",
        "\n",
        "dataset_treino_final.head(n=3)"
      ],
      "execution_count": null,
      "outputs": [
        {
          "output_type": "execute_result",
          "data": {
            "text/html": [
              "<div>\n",
              "<style scoped>\n",
              "    .dataframe tbody tr th:only-of-type {\n",
              "        vertical-align: middle;\n",
              "    }\n",
              "\n",
              "    .dataframe tbody tr th {\n",
              "        vertical-align: top;\n",
              "    }\n",
              "\n",
              "    .dataframe thead th {\n",
              "        text-align: right;\n",
              "    }\n",
              "</style>\n",
              "<table border=\"1\" class=\"dataframe\">\n",
              "  <thead>\n",
              "    <tr style=\"text-align: right;\">\n",
              "      <th></th>\n",
              "      <th>ph</th>\n",
              "      <th>Hardness</th>\n",
              "      <th>Solids</th>\n",
              "      <th>Chloramines</th>\n",
              "      <th>Sulfate</th>\n",
              "      <th>Conductivity</th>\n",
              "      <th>Organic_carbon</th>\n",
              "      <th>Trihalomethanes</th>\n",
              "      <th>Turbidity</th>\n",
              "      <th>Potability</th>\n",
              "    </tr>\n",
              "  </thead>\n",
              "  <tbody>\n",
              "    <tr>\n",
              "      <th>0</th>\n",
              "      <td>-0.669451</td>\n",
              "      <td>1.254109</td>\n",
              "      <td>-0.182316</td>\n",
              "      <td>0.841167</td>\n",
              "      <td>0.004611</td>\n",
              "      <td>-1.685938</td>\n",
              "      <td>1.488390</td>\n",
              "      <td>1.701150</td>\n",
              "      <td>-1.000754</td>\n",
              "      <td>0</td>\n",
              "    </tr>\n",
              "    <tr>\n",
              "      <th>1</th>\n",
              "      <td>-0.111296</td>\n",
              "      <td>0.155063</td>\n",
              "      <td>-0.626624</td>\n",
              "      <td>0.844434</td>\n",
              "      <td>0.669372</td>\n",
              "      <td>-1.128834</td>\n",
              "      <td>1.986151</td>\n",
              "      <td>-0.360752</td>\n",
              "      <td>0.366608</td>\n",
              "      <td>0</td>\n",
              "    </tr>\n",
              "    <tr>\n",
              "      <th>2</th>\n",
              "      <td>-0.003552</td>\n",
              "      <td>0.244609</td>\n",
              "      <td>1.245322</td>\n",
              "      <td>-0.713884</td>\n",
              "      <td>-0.250474</td>\n",
              "      <td>-1.084264</td>\n",
              "      <td>-2.951119</td>\n",
              "      <td>0.313730</td>\n",
              "      <td>1.212820</td>\n",
              "      <td>0</td>\n",
              "    </tr>\n",
              "  </tbody>\n",
              "</table>\n",
              "</div>"
            ],
            "text/plain": [
              "         ph  Hardness    Solids  ...  Trihalomethanes  Turbidity  Potability\n",
              "0 -0.669451  1.254109 -0.182316  ...         1.701150  -1.000754           0\n",
              "1 -0.111296  0.155063 -0.626624  ...        -0.360752   0.366608           0\n",
              "2 -0.003552  0.244609  1.245322  ...         0.313730   1.212820           0\n",
              "\n",
              "[3 rows x 10 columns]"
            ]
          },
          "metadata": {},
          "execution_count": 27
        }
      ]
    },
    {
      "cell_type": "code",
      "metadata": {
        "colab": {
          "base_uri": "https://localhost:8080/"
        },
        "id": "F80ZPiL2Pnnd",
        "outputId": "2a45a3b8-4fdf-47e0-d94f-c6b98354738a"
      },
      "source": [
        "dataset_treino_final['Potability'].value_counts()"
      ],
      "execution_count": null,
      "outputs": [
        {
          "output_type": "execute_result",
          "data": {
            "text/plain": [
              "1    1606\n",
              "0    1606\n",
              "Name: Potability, dtype: int64"
            ]
          },
          "metadata": {},
          "execution_count": 28
        }
      ]
    },
    {
      "cell_type": "markdown",
      "metadata": {
        "id": "PDpeFN0oR8Bx"
      },
      "source": [
        "# **TREINAMENTO e VALIDAÇÃO DE MODELOS:**\n",
        "- Para o treinamento será utilizado um GridSearch (técnica que acha os melhores parametros para o modelo com aquele conjunto de dados);\n",
        "- Será usado a fim de experimento e comparação, mais de um modelo:\n",
        "  - DecisionTreeClassifier;\n",
        "  - SVM (algorítmo sensível ao dimensionamento dos dados);\n",
        "  - XGBClassifier;\n",
        "  - RandomForestClassifier (exemplo de algorítmo NÃO sensível ao dimensionamento dos dados);"
      ]
    },
    {
      "cell_type": "markdown",
      "metadata": {
        "id": "HXRYMX6tQP6g"
      },
      "source": [
        "##### Separação dos dados:\n",
        "- Separando em X (input) de treino e teste, e y (output) de treino e teste."
      ]
    },
    {
      "cell_type": "code",
      "metadata": {
        "id": "VkWy9iCZQP6i"
      },
      "source": [
        "X_train_final = dataset_treino_final.drop(['Potability'], axis=1)\n",
        "y_train_final = dataset_treino_final.Potability\n",
        "\n",
        "X_test_final = dataset_standart_teste.drop(['Potability'], axis=1)\n",
        "y_test_final = dataset_standart_teste.Potability"
      ],
      "execution_count": null,
      "outputs": []
    },
    {
      "cell_type": "code",
      "metadata": {
        "colab": {
          "base_uri": "https://localhost:8080/"
        },
        "id": "txf1S5hNQP6j",
        "outputId": "8513e4a2-e0d2-430d-84aa-aea25249213c"
      },
      "source": [
        "print(X_train_final.shape)\n",
        "print(X_test_final.shape)\n",
        "print(y_train_final.shape)\n",
        "print(y_test_final.shape)"
      ],
      "execution_count": null,
      "outputs": [
        {
          "output_type": "stream",
          "name": "stdout",
          "text": [
            "(3212, 9)\n",
            "(656, 9)\n",
            "(3212,)\n",
            "(656,)\n"
          ]
        }
      ]
    },
    {
      "cell_type": "markdown",
      "metadata": {
        "id": "CQTxlQ1mWFwk"
      },
      "source": [
        "##### DecisionTree:"
      ]
    },
    {
      "cell_type": "code",
      "metadata": {
        "colab": {
          "base_uri": "https://localhost:8080/"
        },
        "id": "Da4cJxNrWZ-o",
        "outputId": "e6502b2c-8f39-47f8-f4b4-e3c6b15c80fa"
      },
      "source": [
        "tree_param = {\n",
        "    'criterion':['gini','entropy'],\n",
        "    'max_depth':[4,5,6,7,8,9,10,11,12,15,20,30,40,50,70,90,120,150]\n",
        "}\n",
        "\n",
        "clf_tree = GridSearchCV(DecisionTreeClassifier(random_state=1), tree_param, cv=5)\n",
        "clf_tree.fit(X_train_final, y_train_final) #trinta segundos"
      ],
      "execution_count": null,
      "outputs": [
        {
          "output_type": "execute_result",
          "data": {
            "text/plain": [
              "GridSearchCV(cv=5, estimator=DecisionTreeClassifier(random_state=1),\n",
              "             param_grid={'criterion': ['gini', 'entropy'],\n",
              "                         'max_depth': [4, 5, 6, 7, 8, 9, 10, 11, 12, 15, 20, 30,\n",
              "                                       40, 50, 70, 90, 120, 150]})"
            ]
          },
          "metadata": {},
          "execution_count": 31
        }
      ]
    },
    {
      "cell_type": "code",
      "metadata": {
        "colab": {
          "base_uri": "https://localhost:8080/"
        },
        "id": "2ZwRsGTnXupM",
        "outputId": "ea8c7ce2-2231-403a-991a-34231b81cee5"
      },
      "source": [
        "pred_tree = clf_tree.predict(X_test_final)\n",
        "confusion_matrix(y_test_final, pred_tree)"
      ],
      "execution_count": null,
      "outputs": [
        {
          "output_type": "execute_result",
          "data": {
            "text/plain": [
              "array([[237, 155],\n",
              "       [139, 125]])"
            ]
          },
          "metadata": {},
          "execution_count": 32
        }
      ]
    },
    {
      "cell_type": "code",
      "metadata": {
        "colab": {
          "base_uri": "https://localhost:8080/"
        },
        "id": "MhHCQkcDXRIf",
        "outputId": "40a1e088-23b2-45ee-9c10-c07c6fd9a060"
      },
      "source": [
        "print(classification_report(y_test_final, pred_tree))"
      ],
      "execution_count": null,
      "outputs": [
        {
          "output_type": "stream",
          "name": "stdout",
          "text": [
            "              precision    recall  f1-score   support\n",
            "\n",
            "           0       0.63      0.60      0.62       392\n",
            "           1       0.45      0.47      0.46       264\n",
            "\n",
            "    accuracy                           0.55       656\n",
            "   macro avg       0.54      0.54      0.54       656\n",
            "weighted avg       0.56      0.55      0.55       656\n",
            "\n"
          ]
        }
      ]
    },
    {
      "cell_type": "markdown",
      "metadata": {
        "id": "iANoBxclWKWg"
      },
      "source": [
        "##### SupportVectorMachine (SVM):"
      ]
    },
    {
      "cell_type": "code",
      "metadata": {
        "colab": {
          "base_uri": "https://localhost:8080/"
        },
        "id": "CMhZiN0GWZwX",
        "outputId": "ff62e375-b6ce-4fc3-e575-fa743d73e4a6"
      },
      "source": [
        "svm_param = {\n",
        "    'C': [0.1, 1, 10, 100, 1000],\n",
        "    'gamma': [1, 0.1, 0.01, 0.001, 0.0001],\n",
        "    'kernel': ['rbf']\n",
        "}\n",
        "\n",
        "clf_svm = GridSearchCV(svm.SVC(random_state=1), svm_param, cv=5)\n",
        "clf_svm.fit(X_train_final, y_train_final) # dois minutos"
      ],
      "execution_count": null,
      "outputs": [
        {
          "output_type": "execute_result",
          "data": {
            "text/plain": [
              "GridSearchCV(cv=5, estimator=SVC(random_state=1),\n",
              "             param_grid={'C': [0.1, 1, 10, 100, 1000],\n",
              "                         'gamma': [1, 0.1, 0.01, 0.001, 0.0001],\n",
              "                         'kernel': ['rbf']})"
            ]
          },
          "metadata": {},
          "execution_count": 34
        }
      ]
    },
    {
      "cell_type": "code",
      "metadata": {
        "colab": {
          "base_uri": "https://localhost:8080/"
        },
        "id": "l3QZo3ZfZP9F",
        "outputId": "d206f49d-273f-42e7-fa54-aeb6b5eb7738"
      },
      "source": [
        "pred_svm = clf_svm.predict(X_test_final)\n",
        "confusion_matrix(y_test_final, pred_svm)"
      ],
      "execution_count": null,
      "outputs": [
        {
          "output_type": "execute_result",
          "data": {
            "text/plain": [
              "array([[336,  56],\n",
              "       [197,  67]])"
            ]
          },
          "metadata": {},
          "execution_count": 35
        }
      ]
    },
    {
      "cell_type": "code",
      "metadata": {
        "colab": {
          "base_uri": "https://localhost:8080/"
        },
        "id": "VH8b1iJwZU9V",
        "outputId": "3801e82e-d3f9-4827-c30b-2a41109d84a3"
      },
      "source": [
        "print(classification_report(y_test_final, pred_svm))"
      ],
      "execution_count": null,
      "outputs": [
        {
          "output_type": "stream",
          "name": "stdout",
          "text": [
            "              precision    recall  f1-score   support\n",
            "\n",
            "           0       0.63      0.86      0.73       392\n",
            "           1       0.54      0.25      0.35       264\n",
            "\n",
            "    accuracy                           0.61       656\n",
            "   macro avg       0.59      0.56      0.54       656\n",
            "weighted avg       0.60      0.61      0.57       656\n",
            "\n"
          ]
        }
      ]
    },
    {
      "cell_type": "markdown",
      "metadata": {
        "id": "e4t4IhWvWWAb"
      },
      "source": [
        "##### XGBClassifier:"
      ]
    },
    {
      "cell_type": "code",
      "metadata": {
        "colab": {
          "base_uri": "https://localhost:8080/"
        },
        "id": "fubpQ_gdWZbg",
        "outputId": "97099ee7-9001-4a8a-be40-78b53476e939"
      },
      "source": [
        "xgb_param = {\n",
        "        'min_child_weight': [1, 5, 10],\n",
        "        'gamma': [0.5, 1, 1.5, 2, 5],\n",
        "        'subsample': [0.6, 0.8, 1.0],\n",
        "        'colsample_bytree': [0.6, 0.8, 1.0],\n",
        "        'max_depth': [3, 4, 5]\n",
        "}\n",
        "\n",
        "clf_xgb = GridSearchCV(xgb.XGBClassifier(random_state=1), xgb_param, cv=5)\n",
        "clf_xgb.fit(X_train_final, y_train_final) # 5 min"
      ],
      "execution_count": null,
      "outputs": [
        {
          "output_type": "execute_result",
          "data": {
            "text/plain": [
              "GridSearchCV(cv=5, estimator=XGBClassifier(random_state=1),\n",
              "             param_grid={'colsample_bytree': [0.6, 0.8, 1.0],\n",
              "                         'gamma': [0.5, 1, 1.5, 2, 5], 'max_depth': [3, 4, 5],\n",
              "                         'min_child_weight': [1, 5, 10],\n",
              "                         'subsample': [0.6, 0.8, 1.0]})"
            ]
          },
          "metadata": {},
          "execution_count": 37
        }
      ]
    },
    {
      "cell_type": "code",
      "metadata": {
        "colab": {
          "base_uri": "https://localhost:8080/"
        },
        "id": "KTfLhSKHZq4Z",
        "outputId": "099d3252-b81a-48c9-8f70-f9d3bdce5b75"
      },
      "source": [
        "pred_xgb = clf_xgb.predict(X_test_final)\n",
        "confusion_matrix(y_test_final, pred_xgb)"
      ],
      "execution_count": null,
      "outputs": [
        {
          "output_type": "execute_result",
          "data": {
            "text/plain": [
              "array([[248, 144],\n",
              "       [115, 149]])"
            ]
          },
          "metadata": {},
          "execution_count": 38
        }
      ]
    },
    {
      "cell_type": "code",
      "metadata": {
        "colab": {
          "base_uri": "https://localhost:8080/"
        },
        "id": "Mjxx3aO5ZrOr",
        "outputId": "50a0e6d0-a4c2-4253-ab80-713870523e1d"
      },
      "source": [
        "print(classification_report(y_test_final, pred_xgb))"
      ],
      "execution_count": null,
      "outputs": [
        {
          "output_type": "stream",
          "name": "stdout",
          "text": [
            "              precision    recall  f1-score   support\n",
            "\n",
            "           0       0.68      0.63      0.66       392\n",
            "           1       0.51      0.56      0.54       264\n",
            "\n",
            "    accuracy                           0.61       656\n",
            "   macro avg       0.60      0.60      0.60       656\n",
            "weighted avg       0.61      0.61      0.61       656\n",
            "\n"
          ]
        }
      ]
    },
    {
      "cell_type": "markdown",
      "metadata": {
        "id": "MdF32s8nTNEG"
      },
      "source": [
        "##### RandomForest (RFC):"
      ]
    },
    {
      "cell_type": "code",
      "metadata": {
        "colab": {
          "base_uri": "https://localhost:8080/"
        },
        "id": "F1EUsq-QcPYF",
        "outputId": "1546f68e-ec92-4a76-950d-52aedf23e995"
      },
      "source": [
        "rfc_param = {\n",
        "    'n_estimators': [200, 500],\n",
        "    'max_features': ['auto', 'sqrt', 'log2'],\n",
        "    'max_depth': [4,5,6,7,8],\n",
        "    'criterion': ['gini', 'entropy']\n",
        "}\n",
        "\n",
        "clf_rfc = GridSearchCV(estimator=RandomForestClassifier(random_state=1), param_grid=rfc_param, cv=5)\n",
        "clf_rfc.fit(X_train_final, y_train_final) #9 min"
      ],
      "execution_count": null,
      "outputs": [
        {
          "output_type": "execute_result",
          "data": {
            "text/plain": [
              "GridSearchCV(cv=5, estimator=RandomForestClassifier(random_state=1),\n",
              "             param_grid={'criterion': ['gini', 'entropy'],\n",
              "                         'max_depth': [4, 5, 6, 7, 8],\n",
              "                         'max_features': ['auto', 'sqrt', 'log2'],\n",
              "                         'n_estimators': [200, 500]})"
            ]
          },
          "metadata": {},
          "execution_count": 40
        }
      ]
    },
    {
      "cell_type": "code",
      "metadata": {
        "colab": {
          "base_uri": "https://localhost:8080/"
        },
        "id": "GsC8aGCrTM0J",
        "outputId": "317f79f6-3a2f-49c3-c0e5-fa0a8866b560"
      },
      "source": [
        "pred_rfc = clf_rfc.predict(X_test_final)\n",
        "confusion_matrix(y_test_final, pred_rfc)"
      ],
      "execution_count": null,
      "outputs": [
        {
          "output_type": "execute_result",
          "data": {
            "text/plain": [
              "array([[281, 111],\n",
              "       [136, 128]])"
            ]
          },
          "metadata": {},
          "execution_count": 41
        }
      ]
    },
    {
      "cell_type": "code",
      "metadata": {
        "colab": {
          "base_uri": "https://localhost:8080/"
        },
        "id": "8n2V8IkEcKS_",
        "outputId": "781dd92a-2979-499b-d48f-8bd1725e1aac"
      },
      "source": [
        "print(classification_report(y_test_final, pred_rfc))"
      ],
      "execution_count": null,
      "outputs": [
        {
          "output_type": "stream",
          "name": "stdout",
          "text": [
            "              precision    recall  f1-score   support\n",
            "\n",
            "           0       0.67      0.72      0.69       392\n",
            "           1       0.54      0.48      0.51       264\n",
            "\n",
            "    accuracy                           0.62       656\n",
            "   macro avg       0.60      0.60      0.60       656\n",
            "weighted avg       0.62      0.62      0.62       656\n",
            "\n"
          ]
        }
      ]
    },
    {
      "cell_type": "markdown",
      "metadata": {
        "id": "Bfn59CrCir1P"
      },
      "source": [
        "# **FEATURE IMPORTANCE**"
      ]
    },
    {
      "cell_type": "markdown",
      "metadata": {
        "id": "R6Vuvkt0lFWA"
      },
      "source": [
        "##### XGBClassifier:"
      ]
    },
    {
      "cell_type": "code",
      "metadata": {
        "colab": {
          "base_uri": "https://localhost:8080/"
        },
        "id": "Pwi7ZLUCkl51",
        "outputId": "0dd9be3d-3617-4b12-9d3d-e342e50d5e12"
      },
      "source": [
        "clf_xgb.best_params_"
      ],
      "execution_count": null,
      "outputs": [
        {
          "output_type": "execute_result",
          "data": {
            "text/plain": [
              "{'colsample_bytree': 1.0,\n",
              " 'gamma': 0.5,\n",
              " 'max_depth': 5,\n",
              " 'min_child_weight': 1,\n",
              " 'subsample': 0.6}"
            ]
          },
          "metadata": {},
          "execution_count": 46
        }
      ]
    },
    {
      "cell_type": "code",
      "metadata": {
        "colab": {
          "base_uri": "https://localhost:8080/"
        },
        "id": "MFQlTTNSlVIw",
        "outputId": "485c0c74-e1e3-400e-b3ed-279cc075ecd6"
      },
      "source": [
        "xgbc = xgb.XGBClassifier(colsample_bytree=1.0, gamma=1.5, max_depth=3, min_child_weight=5, subsample=1.0, random_state=1)\n",
        "xgbc.fit(X_train_final, y_train_final)"
      ],
      "execution_count": null,
      "outputs": [
        {
          "output_type": "execute_result",
          "data": {
            "text/plain": [
              "XGBClassifier(colsample_bytree=1.0, gamma=1.5, min_child_weight=5,\n",
              "              random_state=1, subsample=1.0)"
            ]
          },
          "metadata": {},
          "execution_count": 47
        }
      ]
    },
    {
      "cell_type": "code",
      "metadata": {
        "colab": {
          "base_uri": "https://localhost:8080/",
          "height": 294
        },
        "id": "mbWVUsIEmFdv",
        "outputId": "7a0ca0be-6f4a-43fe-a9c0-23dc12a73687"
      },
      "source": [
        "xgb.plot_importance(xgbc)\n",
        "plt.rcParams['figure.figsize'] = [10, 6]\n",
        "plt.show()"
      ],
      "execution_count": null,
      "outputs": [
        {
          "output_type": "display_data",
          "data": {
            "image/png": "[encoded data removed]",
            "text/plain": [
              "<Figure size 432x288 with 1 Axes>"
            ]
          },
          "metadata": {
            "needs_background": "light"
          }
        }
      ]
    },
    {
      "cell_type": "markdown",
      "metadata": {
        "id": "Kn9Q4JutlA2h"
      },
      "source": [
        "##### RandomForest (RFC):"
      ]
    },
    {
      "cell_type": "code",
      "metadata": {
        "colab": {
          "base_uri": "https://localhost:8080/"
        },
        "id": "eY4N4YAZmgBc",
        "outputId": "849e48e1-84ca-4577-e835-e05e65027f69"
      },
      "source": [
        "feature_importance = clf_rfc.best_estimator_.feature_importances_\n",
        "columns = dataset.columns[:-1]\n",
        "\n",
        "print(feature_importance)\n",
        "print(columns)"
      ],
      "execution_count": null,
      "outputs": [
        {
          "output_type": "stream",
          "name": "stdout",
          "text": [
            "[0.1953677  0.11650999 0.11858949 0.10939255 0.17742615 0.07128952\n",
            " 0.07373192 0.06584655 0.07184612]\n",
            "Index(['ph', 'Hardness', 'Solids', 'Chloramines', 'Sulfate', 'Conductivity',\n",
            "       'Organic_carbon', 'Trihalomethanes', 'Turbidity'],\n",
            "      dtype='object')\n"
          ]
        }
      ]
    },
    {
      "cell_type": "code",
      "metadata": {
        "colab": {
          "base_uri": "https://localhost:8080/",
          "height": 407
        },
        "id": "68tHlATSmlXc",
        "outputId": "3f1d1b07-5b26-48cb-8329-869ca96e105c"
      },
      "source": [
        "id_ordenado = feature_importance.argsort()\n",
        "\n",
        "plt.figure(figsize=(10,6))\n",
        "plt.barh(columns[id_ordenado], feature_importance[id_ordenado])\n",
        "plt.title('Peso de cada feature')"
      ],
      "execution_count": null,
      "outputs": [
        {
          "output_type": "execute_result",
          "data": {
            "text/plain": [
              "Text(0.5, 1.0, 'Peso de cada feature')"
            ]
          },
          "metadata": {},
          "execution_count": 50
        },
        {
          "output_type": "display_data",
          "data": {
            "image/png": "[encoded data removed]",
            "text/plain": [
              "<Figure size 720x432 with 1 Axes>"
            ]
          },
          "metadata": {
            "needs_background": "light"
          }
        }
      ]
    },
    {
      "cell_type": "markdown",
      "metadata": {
        "id": "SwtDU6ASFve6"
      },
      "source": [
        "# **ANÁLISE DE DESEMPENHO DOS CLASSIFICADORES:**"
      ]
    },
    {
      "cell_type": "markdown",
      "metadata": {
        "id": "X47mX6qKKW2s"
      },
      "source": [
        "### ORGANIZANDO OS RESULTADOS:"
      ]
    },
    {
      "cell_type": "code",
      "metadata": {
        "colab": {
          "base_uri": "https://localhost:8080/",
          "height": 173
        },
        "id": "-0nKsQi6F2Ya",
        "outputId": "3c05ae71-da94-4478-bb44-8092c6b2e0d2"
      },
      "source": [
        "result_models = pd.DataFrame({\n",
        "    'Precisão (0)%': {'DecisionTree': 63, 'SVM': 63, 'XGBoost': 68, 'RandomForest':67},\n",
        "    'Precisão (1)%': {'DecisionTree': 45, 'SVM': 54, 'XGBoost': 51, 'RandomForest':54},\n",
        "    'Revocação (0)%': {'DecisionTree': 60, 'SVM': 86, 'XGBoost': 63, 'RandomForest':72},\n",
        "    'Revocação (1)%': {'DecisionTree': 47, 'SVM': 25, 'XGBoost': 56, 'RandomForest':48},\n",
        "    'F1-score (0)%': {'DecisionTree': 62, 'SVM': 73, 'XGBoost': 66, 'RandomForest':69}, \n",
        "    'F1-score (1)%': {'DecisionTree': 46, 'SVM': 35, 'XGBoost': 54, 'RandomForest':51}, \n",
        "    'Acurácia %': {'DecisionTree': 55, 'SVM': 61, 'XGBoost': 61, 'RandomForest':62}\n",
        "})\n",
        "\n",
        "result_models"
      ],
      "execution_count": null,
      "outputs": [
        {
          "output_type": "execute_result",
          "data": {
            "text/html": [
              "<div>\n",
              "<style scoped>\n",
              "    .dataframe tbody tr th:only-of-type {\n",
              "        vertical-align: middle;\n",
              "    }\n",
              "\n",
              "    .dataframe tbody tr th {\n",
              "        vertical-align: top;\n",
              "    }\n",
              "\n",
              "    .dataframe thead th {\n",
              "        text-align: right;\n",
              "    }\n",
              "</style>\n",
              "<table border=\"1\" class=\"dataframe\">\n",
              "  <thead>\n",
              "    <tr style=\"text-align: right;\">\n",
              "      <th></th>\n",
              "      <th>Precisão (0)%</th>\n",
              "      <th>Precisão (1)%</th>\n",
              "      <th>Revocação (0)%</th>\n",
              "      <th>Revocação (1)%</th>\n",
              "      <th>F1-score (0)%</th>\n",
              "      <th>F1-score (1)%</th>\n",
              "      <th>Acurácia %</th>\n",
              "    </tr>\n",
              "  </thead>\n",
              "  <tbody>\n",
              "    <tr>\n",
              "      <th>DecisionTree</th>\n",
              "      <td>63</td>\n",
              "      <td>45</td>\n",
              "      <td>60</td>\n",
              "      <td>47</td>\n",
              "      <td>62</td>\n",
              "      <td>46</td>\n",
              "      <td>55</td>\n",
              "    </tr>\n",
              "    <tr>\n",
              "      <th>SVM</th>\n",
              "      <td>63</td>\n",
              "      <td>54</td>\n",
              "      <td>86</td>\n",
              "      <td>25</td>\n",
              "      <td>73</td>\n",
              "      <td>35</td>\n",
              "      <td>61</td>\n",
              "    </tr>\n",
              "    <tr>\n",
              "      <th>XGBoost</th>\n",
              "      <td>68</td>\n",
              "      <td>51</td>\n",
              "      <td>63</td>\n",
              "      <td>56</td>\n",
              "      <td>66</td>\n",
              "      <td>54</td>\n",
              "      <td>61</td>\n",
              "    </tr>\n",
              "    <tr>\n",
              "      <th>RandomForest</th>\n",
              "      <td>67</td>\n",
              "      <td>54</td>\n",
              "      <td>72</td>\n",
              "      <td>48</td>\n",
              "      <td>69</td>\n",
              "      <td>51</td>\n",
              "      <td>62</td>\n",
              "    </tr>\n",
              "  </tbody>\n",
              "</table>\n",
              "</div>"
            ],
            "text/plain": [
              "              Precisão (0)%  Precisão (1)%  ...  F1-score (1)%  Acurácia %\n",
              "DecisionTree             63             45  ...             46          55\n",
              "SVM                      63             54  ...             35          61\n",
              "XGBoost                  68             51  ...             54          61\n",
              "RandomForest             67             54  ...             51          62\n",
              "\n",
              "[4 rows x 7 columns]"
            ]
          },
          "metadata": {},
          "execution_count": 3
        }
      ]
    },
    {
      "cell_type": "code",
      "metadata": {
        "id": "qRhn3F-mdgcj"
      },
      "source": [
        "result_models.to_csv('/content/drive/MyDrive/result_models.csv')"
      ],
      "execution_count": null,
      "outputs": []
    },
    {
      "cell_type": "markdown",
      "metadata": {
        "id": "z82BGyRaKc2b"
      },
      "source": [
        "### DEFININDO FUNÇÃO:"
      ]
    },
    {
      "cell_type": "code",
      "metadata": {
        "id": "Rat8OtaYJPwv"
      },
      "source": [
        "def line_plot(column1, column2, column):\n",
        "  if column2 == None:\n",
        "    plt.figure(figsize=(12,7))\n",
        "    plt.plot(result_models[column1])\n",
        "  else:\n",
        "    plt.figure(figsize=(12,7))\n",
        "    plt.plot(result_models[column1], label='Classe 0')\n",
        "    plt.plot(result_models[column2], label='Classe 1')\n",
        "    plt.legend()\n",
        "\n",
        "  plt.ylabel(column)"
      ],
      "execution_count": null,
      "outputs": []
    },
    {
      "cell_type": "markdown",
      "metadata": {
        "id": "5zeQHsCQKgXT"
      },
      "source": [
        "### PLOTS:"
      ]
    },
    {
      "cell_type": "code",
      "metadata": {
        "colab": {
          "base_uri": "https://localhost:8080/",
          "height": 462
        },
        "id": "8QTFUKb1KkAy",
        "outputId": "af5273af-bf4d-4c91-8141-e2f4e58531c1"
      },
      "source": [
        "line_plot('Precisão (0)%', 'Precisão (1)%', 'PRECISÃO')\n",
        "plt.title('PRECISÃO POR CLASSIFICADOR')"
      ],
      "execution_count": null,
      "outputs": [
        {
          "output_type": "execute_result",
          "data": {
            "text/plain": [
              "Text(0.5, 1.0, 'PRECISÃO POR CLASSIFICADOR')"
            ]
          },
          "metadata": {},
          "execution_count": 64
        },
        {
          "output_type": "display_data",
          "data": {
            "image/png": "[encoded data removed]",
            "text/plain": [
              "<Figure size 864x504 with 1 Axes>"
            ]
          },
          "metadata": {
            "needs_background": "light"
          }
        }
      ]
    },
    {
      "cell_type": "code",
      "metadata": {
        "colab": {
          "base_uri": "https://localhost:8080/",
          "height": 463
        },
        "id": "6Wr23U7ZK9C_",
        "outputId": "29b016ed-a458-4872-c195-f3fb2a5e781b"
      },
      "source": [
        "line_plot('Revocação (0)%', 'Revocação (1)%', 'REVOCAÇÃO')\n",
        "plt.title('REVOCAÇÃO POR CLASSIFICADOR')"
      ],
      "execution_count": null,
      "outputs": [
        {
          "output_type": "execute_result",
          "data": {
            "text/plain": [
              "Text(0.5, 1.0, 'REVOCAÇÃO POR CLASSIFICADOR')"
            ]
          },
          "metadata": {},
          "execution_count": 65
        },
        {
          "output_type": "display_data",
          "data": {
            "image/png": "[encoded data removed]",
            "text/plain": [
              "<Figure size 864x504 with 1 Axes>"
            ]
          },
          "metadata": {
            "needs_background": "light"
          }
        }
      ]
    },
    {
      "cell_type": "code",
      "metadata": {
        "colab": {
          "base_uri": "https://localhost:8080/",
          "height": 462
        },
        "id": "5SFfTB5JLC3C",
        "outputId": "b23e1a05-1f5a-4fa1-be94-1f2750ea7507"
      },
      "source": [
        "line_plot('F1-score (0)%', 'F1-score (1)%', 'F1-SCORE')\n",
        "plt.title('F1-SCORE POR CLASSIFICADOR')"
      ],
      "execution_count": null,
      "outputs": [
        {
          "output_type": "execute_result",
          "data": {
            "text/plain": [
              "Text(0.5, 1.0, 'F1-SCORE POR CLASSIFICADOR')"
            ]
          },
          "metadata": {},
          "execution_count": 66
        },
        {
          "output_type": "display_data",
          "data": {
            "image/png": "[encoded data removed]",
            "text/plain": [
              "<Figure size 864x504 with 1 Axes>"
            ]
          },
          "metadata": {
            "needs_background": "light"
          }
        }
      ]
    },
    {
      "cell_type": "code",
      "metadata": {
        "colab": {
          "base_uri": "https://localhost:8080/",
          "height": 462
        },
        "id": "a4tvHzBSLKNi",
        "outputId": "2814bc5d-7cef-4418-ea88-e7d1e94ed8b5"
      },
      "source": [
        "line_plot('Acurácia %', None, 'ACURÁCIA')\n",
        "plt.title('ACURÁCIA POR CLASSIFICADOR')"
      ],
      "execution_count": null,
      "outputs": [
        {
          "output_type": "execute_result",
          "data": {
            "text/plain": [
              "Text(0.5, 1.0, 'ACURÁCIA POR CLASSIFICADOR')"
            ]
          },
          "metadata": {},
          "execution_count": 67
        },
        {
          "output_type": "display_data",
          "data": {
            "image/png": "[encoded data removed]",
            "text/plain": [
              "<Figure size 864x504 with 1 Axes>"
            ]
          },
          "metadata": {
            "needs_background": "light"
          }
        }
      ]
    }
  ]
}